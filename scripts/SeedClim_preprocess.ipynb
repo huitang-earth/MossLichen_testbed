{
 "cells": [
  {
   "cell_type": "code",
   "execution_count": 1,
   "metadata": {
    "jupyter": {
     "outputs_hidden": false
    }
   },
   "outputs": [],
   "source": [
    "import xarray as xr   # xarray pacckage for netcdf io and data processing\n",
    "import glob           # allow unix shell like text\n",
    "import pandas as pd\n",
    "import numpy as np\n",
    "import matplotlib.pyplot as plt\n",
    "from matplotlib.pylab import plt\n",
    "import matplotlib.dates as mdates\n",
    "from scipy.signal import savgol_filter\n",
    "import datetime as dt\n",
    "\n",
    "xr.set_options(display_style=\"html\")\n",
    "%matplotlib inline"
   ]
  },
  {
   "cell_type": "code",
   "execution_count": null,
   "metadata": {},
   "outputs": [],
   "source": [
    "# Sites, blocks, treatments\n",
    "\n",
    "sites=[\"ALP1\",\"ALP2\",\"ALP3\",\"ALP4\",\"SUB1\",\"SUB2\",\"SUB3\",\"SUB4\",\"BOR1\",\"BOR2\",\"BOR3\",\"BOR4\"]\n",
    "siteID1=[\"Ulvehaugen\",\"Lavisdalen\",\"Gudmedalen\",\"Skjelingahaugen\",\"Alrust\",\"Hogsete\",\"Rambera\",\"Veskre\",\"Fauske\",\"Vikesland\",\"Arhelleren\",\"Ovstedalen\"] \n",
    "siteID2=[\"Ulvhaugen\",\"Lavisdalen\",\"Gudmedalen\",\"Skjellingahaugen\",\"Alrust\",\"Hogsete\",\"Rambera\",\"Veskre\",\"Fauske\",\"Vikesland\",\"Arhelleren\",\"Ovstedalen\"] \n",
    "siteID3=[\"ULV\",\"LAV\",\"GUD\",\"SKJ\",\"ALR\",\"HOG\",\"RAM\",\"VES\",\"FAU\",\"VIK\",\"ARH\",\"OVS\"]\n",
    "\n",
    "\n",
    "blockID=[['Ulv1','Ulv2','Ulv3','Ulv4'],\n",
    "         ['Lav1','Lav2','Lav3','Lav4'],\n",
    "         ['Gud12','Gud13','Gud15','Gud5'], #12 13 15 5\n",
    "         ['Skj1','Skj2','Skj3','Skj4'],\n",
    "         ['Alr1','Alr2','Alr3','Alr5'], #1, 2,3,5\n",
    "         ['Hog1','Hog2','Hog3','Hog4'],\n",
    "         ['Ram4','Ram5','Ram6','Ram8'], #4 5 6 8\n",
    "         ['Ves1','Ves2','Ves3','Ves4'],\n",
    "         ['Fau1','Fau2','Fau4','Fau5'], #1 2 4 5\n",
    "         ['Vik2','Vik3','Vik4','Vik5'], #2, 3,4,5\n",
    "         ['Arh1','Arh2','Arh3','Arh4'],       \n",
    "         ['Ovs1','Ovs2','Ovs3','Ovs4']] \n",
    "\n",
    "treatment1=\"FGB\" # Bareground\n",
    "treatment2=\"GF\"  # Moss only\n",
    "treatment3=\"B\"   # GRASS (Graminoid and Forbs) only"
   ]
  },
  {
   "cell_type": "code",
   "execution_count": null,
   "metadata": {},
   "outputs": [],
   "source": [
    "# Site-level climate variables\n",
    "\n",
    "# Read raw data\n",
    "atm_obs=pd.read_csv(\"/home/huitang/Documents/MossLichen_testbed/data_raw/GriddedDailyClimateData2009-2019.csv\", index_col=None, header=0)\n",
    "atm_obs2=pd.read_csv(\"/home/huitang/Documents/MossLichen_testbed/data_raw/Temperature/Temperature.csv\", index_col=None, header=0)\n",
    "atm_obs3=pd.read_csv(\"/home/huitang/Documents/MossLichen_testbed/data_raw/Precipitation/Precipitation.csv\", index_col=None, header=0)\n",
    "atm_obs4=pd.read_csv(\"/home/huitang/Documents/MossLichen_testbed/data_raw/SoilMoisture/SoilMoisture.csv\", index_col=None, header=0)\n",
    "\n",
    "\n",
    "# Example of reading data for specific plots and treatment \n",
    "# Pay attention to the column name used for selecting corresponding data\n",
    "# use \"\"\n",
    "\n",
    "i=0 # 0-11. This is used for selecting site\n",
    "\n",
    "# Air Tempearture\n",
    "\n",
    "## gridded temperature (from MetNo)\n",
    "atm_obs_sel=atm_obs[(atm_obs[\"siteID\"]==siteID[i])\n",
    "                             & (atm_obs[\"variable\"]==\"temperature\")]\n",
    "\n",
    "## temperature from logger \n",
    "atm_obs2_sel=atm_obs2[(atm_obs2[\"siteID\"]==siteID2[i])\n",
    "                            & (atm_obs2[\"logger\"]==\"temp200cm\")]\n",
    "\n",
    "# Soil temperature\n",
    "atm_obs2_sel2=atm_obs2[(atm_obs2[\"siteID\"]==siteID2[i])\n",
    "                            & (atm_obs2[\"logger\"]==\"tempsoil\")]\n",
    "\n",
    "# Soil moisture\n",
    "atm_obs4_sel=atm_obs4[(atm_obs4[\"siteID\"]==siteID2[i])\n",
    "                            & (atm_obs4[\"logger\"]==\"soil.moisture1\")]\n",
    "\n",
    "# gridded precipitation \n",
    "atm_obs_sel=atm_obs[(atm_obs[\"siteID\"]==siteID[i])\n",
    "                             & (atm_obs[\"variable\"]==\"precipitation\")]\n",
    "\n",
    "\n",
    "# Example of selecting corresponding date in python\n",
    "maskt1 = (atm_obs2_sel['date'] >= '2015-1-1') & (atm_obs2_sel['date'] <= '2016-12-31')\n",
    "atm_obs2_sel.loc[maskrs]['date']"
   ]
  },
  {
   "cell_type": "code",
   "execution_count": null,
   "metadata": {},
   "outputs": [],
   "source": [
    "# Treatment-level observation data, specifically for moss\n",
    "\n",
    "# Read raw data:\n",
    "cflux=pd.read_csv(\"/home/huitang/Documents/MossLichen_testbed/data_raw/FunCaB_clean_Cflux_2015-2017.csv\", index_col=None, header=0)\n",
    "soil_moist=pd.read_csv(\"/home/huitang/Documents/MossLichen_testbed/data_raw/FunCaB_clean_soilMoisture_2015-2019.csv\", index_col=None, header=0)\n",
    "soil_temp=pd.read_csv(\"/home/huitang/Documents/MossLichen_testbed/data_raw/FunCaB_clean_soiltemperature_2015-2016.csv\", index_col=None, header=0)\n",
    "\n",
    "i=0 # 0-11, this is used for selecting site\n",
    "\n",
    "# Selecting corresponding data\n",
    "soil_temp_bare=soil_temp[(soil_temp[\"siteID\"]==siteID1[i]) & (soil_temp[\"treatment\"]==treatment1)\n",
    "                             & (soil_temp[\"blockID\"].isin(blockID[i]))]\n",
    "soil_temp_moss=soil_temp[(soil_temp[\"siteID\"]==siteID1[i]) & (soil_temp[\"treatment\"]==treatment2)\n",
    "                             & (soil_temp[\"blockID\"].isin(blockID[i]))]\n",
    "soil_temp_grass=soil_temp[(soil_temp[\"siteID\"]==siteID1[i]) & (soil_temp[\"treatment\"]==treatment3)\n",
    "                             & (soil_temp[\"blockID\"].isin(blockID[i]))]\n",
    "\n",
    "\n",
    "soil_moist_bare=soil_moist[(soil_moist[\"siteID\"]==siteID1[i]) & (soil_moist[\"treatment\"]==treatment1)\n",
    "                             & (soil_moist[\"blockID\"].isin(blockID[i]))]\n",
    "soil_moist_moss=soil_moist[(soil_moist[\"siteID\"]==siteID1[i]) & (soil_moist[\"treatment\"]==treatment2)\n",
    "                             & (soil_moist[\"blockID\"].isin(blockID[i]))]\n",
    "soil_moist_grass=soil_moist[(soil_moist[\"siteID\"]==siteID1[i]) & (soil_moist[\"treatment\"]==treatment3)\n",
    "                             & (soil_moist[\"blockID\"].isin(blockID[i]))]\n",
    "\n",
    "cflux_bare=cflux[(cflux[\"siteID\"]==siteID1[i]) & (cflux[\"treatment\"]==treatment1)\n",
    "                             & (cflux[\"blockID\"].isin(blockID[i]))]\n",
    "cflux_moss=cflux[(cflux[\"siteID\"]==siteID1[i]) & (cflux[\"treatment\"]==treatment2)\n",
    "                             & (cflux[\"blockID\"].isin(blockID[i]))]\n",
    "cflux_grass=cflux[(cflux[\"siteID\"]==siteID1[i]) & (cflux[\"treatment\"]==treatment3)\n",
    "                             & (cflux[\"blockID\"].isin(blockID[i]))]"
   ]
  }
 ],
 "metadata": {
  "kernelspec": {
   "display_name": "Python 3",
   "language": "python",
   "name": "python3"
  },
  "language_info": {
   "codemirror_mode": {
    "name": "ipython",
    "version": 3
   },
   "file_extension": ".py",
   "mimetype": "text/x-python",
   "name": "python",
   "nbconvert_exporter": "python",
   "pygments_lexer": "ipython3",
   "version": "3.8.5"
  }
 },
 "nbformat": 4,
 "nbformat_minor": 4
}
