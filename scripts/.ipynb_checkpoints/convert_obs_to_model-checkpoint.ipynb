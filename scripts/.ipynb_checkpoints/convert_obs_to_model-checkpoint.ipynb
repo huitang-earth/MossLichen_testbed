{
 "cells": [
  {
   "cell_type": "markdown",
   "metadata": {},
   "source": [
    "# Roos et al. 2019"
   ]
  },
  {
   "cell_type": "code",
   "execution_count": 217,
   "metadata": {
    "jupyter": {
     "outputs_hidden": false
    }
   },
   "outputs": [],
   "source": [
    "import pandas as pd\n",
    "import numpy as np\n",
    "import matplotlib.pyplot as plt"
   ]
  },
  {
   "cell_type": "code",
   "execution_count": 218,
   "metadata": {},
   "outputs": [],
   "source": [
    "# Open observation data file\n",
    "file = \"~/Documents/MossLichen_testbed/data_raw/Roos_etal_2019/01_Gradient_traits.txt\"\n",
    "obsdata = pd.read_csv(file, sep=' ', skipinitialspace=True)\n",
    "#url = \"https://raw.githubusercontent.com/pandas-dev/pandas/master/doc/data/titanic.csv\"\n",
    "#obsdata = pd.read_csv(url)"
   ]
  },
  {
   "cell_type": "code",
   "execution_count": 219,
   "metadata": {},
   "outputs": [
    {
     "data": {
      "text/html": [
       "<div>\n",
       "<style scoped>\n",
       "    .dataframe tbody tr th:only-of-type {\n",
       "        vertical-align: middle;\n",
       "    }\n",
       "\n",
       "    .dataframe tbody tr th {\n",
       "        vertical-align: top;\n",
       "    }\n",
       "\n",
       "    .dataframe thead th {\n",
       "        text-align: right;\n",
       "    }\n",
       "</style>\n",
       "<table border=\"1\" class=\"dataframe\">\n",
       "  <thead>\n",
       "    <tr style=\"text-align: right;\">\n",
       "      <th></th>\n",
       "      <th>elevation</th>\n",
       "      <th>plot</th>\n",
       "      <th>site.plot</th>\n",
       "      <th>group</th>\n",
       "      <th>genus</th>\n",
       "      <th>species</th>\n",
       "      <th>cover.original</th>\n",
       "      <th>cover.adjusted</th>\n",
       "      <th>rel.cover.adjusted</th>\n",
       "      <th>N</th>\n",
       "      <th>...</th>\n",
       "      <th>rel.WHC</th>\n",
       "      <th>rel.fixedWHC</th>\n",
       "      <th>STA</th>\n",
       "      <th>fixedSTA</th>\n",
       "      <th>rel.STA</th>\n",
       "      <th>rel.fixedSTA</th>\n",
       "      <th>WHCa</th>\n",
       "      <th>fixedWHCa</th>\n",
       "      <th>rel.WHCa</th>\n",
       "      <th>rel.fixedWHCa</th>\n",
       "    </tr>\n",
       "  </thead>\n",
       "  <tbody>\n",
       "    <tr>\n",
       "      <th>0</th>\n",
       "      <td>1120</td>\n",
       "      <td>1</td>\n",
       "      <td>1120p1</td>\n",
       "      <td>bryo</td>\n",
       "      <td>Anastrophyllum</td>\n",
       "      <td>anas.min</td>\n",
       "      <td>0</td>\n",
       "      <td>0.0</td>\n",
       "      <td>0.0</td>\n",
       "      <td>NaN</td>\n",
       "      <td>...</td>\n",
       "      <td>0.0</td>\n",
       "      <td>NaN</td>\n",
       "      <td>NaN</td>\n",
       "      <td>NaN</td>\n",
       "      <td>NaN</td>\n",
       "      <td>NaN</td>\n",
       "      <td>NaN</td>\n",
       "      <td>NaN</td>\n",
       "      <td>NaN</td>\n",
       "      <td>NaN</td>\n",
       "    </tr>\n",
       "    <tr>\n",
       "      <th>1</th>\n",
       "      <td>1120</td>\n",
       "      <td>2</td>\n",
       "      <td>1120p2</td>\n",
       "      <td>bryo</td>\n",
       "      <td>Anastrophyllum</td>\n",
       "      <td>anas.min</td>\n",
       "      <td>0</td>\n",
       "      <td>0.0</td>\n",
       "      <td>0.0</td>\n",
       "      <td>NaN</td>\n",
       "      <td>...</td>\n",
       "      <td>0.0</td>\n",
       "      <td>NaN</td>\n",
       "      <td>NaN</td>\n",
       "      <td>NaN</td>\n",
       "      <td>NaN</td>\n",
       "      <td>NaN</td>\n",
       "      <td>NaN</td>\n",
       "      <td>NaN</td>\n",
       "      <td>NaN</td>\n",
       "      <td>NaN</td>\n",
       "    </tr>\n",
       "    <tr>\n",
       "      <th>2</th>\n",
       "      <td>1120</td>\n",
       "      <td>3</td>\n",
       "      <td>1120p3</td>\n",
       "      <td>bryo</td>\n",
       "      <td>Anastrophyllum</td>\n",
       "      <td>anas.min</td>\n",
       "      <td>0</td>\n",
       "      <td>0.0</td>\n",
       "      <td>0.0</td>\n",
       "      <td>NaN</td>\n",
       "      <td>...</td>\n",
       "      <td>0.0</td>\n",
       "      <td>NaN</td>\n",
       "      <td>NaN</td>\n",
       "      <td>NaN</td>\n",
       "      <td>NaN</td>\n",
       "      <td>NaN</td>\n",
       "      <td>NaN</td>\n",
       "      <td>NaN</td>\n",
       "      <td>NaN</td>\n",
       "      <td>NaN</td>\n",
       "    </tr>\n",
       "  </tbody>\n",
       "</table>\n",
       "<p>3 rows × 41 columns</p>\n",
       "</div>"
      ],
      "text/plain": [
       "   elevation  plot site.plot group           genus   species cover.original  \\\n",
       "0       1120     1    1120p1  bryo  Anastrophyllum  anas.min              0   \n",
       "1       1120     2    1120p2  bryo  Anastrophyllum  anas.min              0   \n",
       "2       1120     3    1120p3  bryo  Anastrophyllum  anas.min              0   \n",
       "\n",
       "   cover.adjusted  rel.cover.adjusted   N  ...  rel.WHC  rel.fixedWHC  STA  \\\n",
       "0             0.0                 0.0 NaN  ...      0.0           NaN  NaN   \n",
       "1             0.0                 0.0 NaN  ...      0.0           NaN  NaN   \n",
       "2             0.0                 0.0 NaN  ...      0.0           NaN  NaN   \n",
       "\n",
       "   fixedSTA  rel.STA  rel.fixedSTA  WHCa  fixedWHCa  rel.WHCa  rel.fixedWHCa  \n",
       "0       NaN      NaN           NaN   NaN        NaN       NaN            NaN  \n",
       "1       NaN      NaN           NaN   NaN        NaN       NaN            NaN  \n",
       "2       NaN      NaN           NaN   NaN        NaN       NaN            NaN  \n",
       "\n",
       "[3 rows x 41 columns]"
      ]
     },
     "execution_count": 219,
     "metadata": {},
     "output_type": "execute_result"
    }
   ],
   "source": [
    "# Different ways of checking the table\n",
    "obsdata.head()    # check heading information\n",
    "obsdata.columns   # print all the columns\n",
    "obsdata.index     # print indexing\n",
    "obsdata.dtypes    # print data type of each column \n",
    "obsdata.genus     # check column data by column name\n",
    "obsdata.loc[0:2,\"elevation\":\"rel.fixedWHCa\"] # check specific rows and columns"
   ]
  },
  {
   "cell_type": "code",
   "execution_count": 220,
   "metadata": {},
   "outputs": [],
   "source": [
    "# Select the corresponding species name and trait variables\n",
    "# To do: Need a loop to go over all the species of interests\n",
    "species_list=[\"hylo.spl\",\"pleu.sch\",\"spha.rus\",\"flav.niv\",\"clad.ran\",\"alec.och\"]\n",
    "\n",
    "whc_hs=obsdata.loc[obsdata['species'] == 'hylo.spl','WHC']   # water holding capacity (g g-1)\n",
    "whc_ps=obsdata.loc[obsdata['species'] == 'pleu.sch','WHC']   # water holding capacity (g g-1)\n",
    "whc_sp=obsdata.loc[obsdata['species'] == 'spha.rus','WHC']   # water holding capacity (g g-1)\n",
    "whc_fn=obsdata.loc[obsdata['species'] == 'flav.niv','WHCa']  # Water Holding Capacity per thallus area (mg mm-2)\n",
    "sla_fn=obsdata.loc[obsdata['species'] == 'flav.niv','STA']   # Specific Thallus Area (mm2 mg-1)\n",
    "whc_fn=whc_fn*sla_fn\n",
    "whc_cr=obsdata.loc[obsdata['species'] == 'clad.ran','WHCa']  # Water Holding Capacity per thallus area (mg mm-2)\n",
    "sla_cr=obsdata.loc[obsdata['species'] == 'clad.ran','STA']   # Specific Thallus Area (mm2 mg-1)\n",
    "whc_cr=whc_cr*sla_cr\n",
    "whc_ao=obsdata.loc[obsdata['species'] == 'alec.och','WHCa']  # Water Holding Capacity per thallus area (mg mm-2)\n",
    "sla_ao=obsdata.loc[obsdata['species'] == 'alec.och','STA']   # Specific Thallus Area (mm2 mg-1)\n",
    "whc_ao=whc_ao*sla_ao"
   ]
  },
  {
   "cell_type": "code",
   "execution_count": 231,
   "metadata": {},
   "outputs": [
    {
     "data": {
      "image/png": "[encoded data removed]",
      "text/plain": [
       "<Figure size 432x288 with 2 Axes>"
      ]
     },
     "metadata": {
      "needs_background": "light"
     },
     "output_type": "display_data"
    }
   ],
   "source": [
    "# Bar plot, difference among different species\n",
    "\n",
    "#d_hs = (np.max(whc_hs)-np.min(whc_hs), np.nanmedian(whc_hs), np.mean(whc_hs)+np.std(whc_hs), np.mean(whc_hs)-np.std(whc_hs))\n",
    "#d_ps = (np.max(whc_ps)-np.min(whc_ps), np.nanmedian(whc_ps), np.mean(whc_ps)+np.std(whc_ps), np.mean(whc_ps)-np.std(whc_ps))\n",
    "#d_sp = (np.max(whc_sp)-np.min(whc_sp), np.nanmedian(whc_sp), np.mean(whc_sp)+np.std(whc_sp), np.mean(whc_sp)-np.std(whc_sp))\n",
    "#d_fn = (np.max(whc_fn)-np.min(whc_fn), np.nanmedian(whc_fn), np.mean(whc_fn)+np.std(whc_fn), np.mean(whc_fn)-np.std(whc_fn))\n",
    "#d_cr = (np.max(whc_cr)-np.min(whc_cr), np.nanmedian(whc_cr), np.mean(whc_cr)+np.std(whc_cr), np.mean(whc_cr)-np.std(whc_hs))\n",
    "#d_ao = (np.max(whc_ao)-np.min(whc_ao), np.nanmedian(whc_ao), np.mean(whc_ao)+np.std(whc_ao), np.mean(whc_ao)-np.std(whc_ao))\n",
    "#d1=np.column_stack((d_hs, d_ps, d_sp, d_fn, d_cr, d_ao))\n",
    "\n",
    "d1=[whc_hs[~np.isnan(whc_hs)], whc_ps[~np.isnan(whc_ps)], whc_sp[~np.isnan(whc_sp)], whc_fn[~np.isnan(whc_fn)], whc_cr[~np.isnan(whc_cr)], whc_ao[~np.isnan(whc_ao)]]\n",
    "d2=[0,0,0,sla_fn[~np.isnan(whc_fn)], sla_cr[~np.isnan(whc_cr)], sla_ao[~np.isnan(whc_ao)]]\n",
    "\n",
    "# Draw multipanel plot\n",
    "fig = plt.figure()\n",
    "gs = fig.add_gridspec(2, hspace=0.5)\n",
    "axs = gs.subplots(sharex='col', sharey='row')\n",
    "\n",
    "axs[0].set_title('WHC')\n",
    "axs[0].boxplot(d1, showfliers=False)\n",
    "axs[1].set_title('STA')\n",
    "axs[1].boxplot(d2, showfliers=False)\n",
    "plt.xticks([1, 2, 3, 4, 5, 6], ['hylo.spl','pleu.sch','spha.rus','flav.niv','clad.ran','alec.och'], rotation=20) \n",
    "\n",
    "plt.show()"
   ]
  },
  {
   "cell_type": "code",
   "execution_count": 234,
   "metadata": {},
   "outputs": [
    {
     "data": {
      "image/png": "[encoded data removed]",
      "text/plain": [
       "<Figure size 432x432 with 1 Axes>"
      ]
     },
     "metadata": {
      "needs_background": "light"
     },
     "output_type": "display_data"
    }
   ],
   "source": [
    "# Scatter plot to look at the relation between different traits or traits/environment relation\n",
    "#whc=np.concatenate((whc_fn, whc_cr, whc_ao))\n",
    "#sla=np.concatenate((sla_fn, sla_cr, sla_ao))\n",
    "plt.figure(figsize=(6,6))\n",
    "plt.scatter(sla_fn, whc_fn,label='flav.niv')\n",
    "plt.scatter(sla_cr, whc_cr,label='clad.ran')\n",
    "plt.scatter(sla_ao, whc_ao,label='alec.och')\n",
    "#plt.scatter(whc,sla)\n",
    "plt.ylabel(\"Water Holding Capacity (mg mm-2)\")\n",
    "plt.xlabel(\"Specific Thallus Area (mm2 mg-1)\")\n",
    "#plt.title(\"\")\n",
    "plt.legend(loc='best')\n",
    "#plt.grid(True)\n",
    "#plt.savefig(\"/home/huitang/SynologyDrive/moss_lichen/sites_observation/monthly_temperature.png\")\n",
    "plt.show()"
   ]
  },
  {
   "cell_type": "code",
   "execution_count": 312,
   "metadata": {},
   "outputs": [
    {
     "name": "stdout",
     "output_type": "stream",
     "text": [
      "no print\n",
      "no print\n",
      "no print\n",
      "no print\n",
      "no print\n",
      "no print\n",
      "no print\n",
      "no print\n",
      "no print\n",
      "no print\n",
      "no print\n",
      "no print\n",
      "no print\n",
      "no print\n",
      "no print\n",
      "no print\n"
     ]
    }
   ],
   "source": [
    "#### Write output .csv file\n",
    "\n",
    "filname=\"~/Documents/MossLichen_testbed/data_mod/test_output.csv\"\n",
    "\n",
    "hs=obsdata.loc[obsdata['species'] == 'hylo.spl']\n",
    "\n",
    "df = pd.DataFrame({'species': obsdata.loc[obsdata['species'] == 'hylo.spl','species'],\n",
    "                   'WHC_g/g': obsdata.loc[obsdata['species'] == 'hylo.spl','WHC'],\n",
    "                   'SLA/STA_mm2/mg': obsdata.loc[obsdata['species'] == 'hylo.spl','SLA'],\n",
    "                   'Nitrogen_%': obsdata.loc[obsdata['species'] == 'hylo.spl','N'],\n",
    "                   'Phosphorus_%': obsdata.loc[obsdata['species'] == 'hylo.spl','P'],\n",
    "                  })\n",
    "\n",
    "\n",
    "num=len(df)\n",
    "df.index=range(num)\n",
    "\n",
    "x=0\n",
    "df_out = pd.DataFrame({'species': df.loc[x,'species'],\n",
    "                   'WHC_g/g': df.loc[x,'WHC_g/g'],\n",
    "                   'SLA/STA_mm2/mg': df.loc[x,'SLA/STA_mm2/mg'],\n",
    "                   'Nitrogen_%': df.loc[x,'Nitrogen_%'],\n",
    "                   'Phosphorus_%': df.loc[x,'Phosphorus_%'],\n",
    "                  'Location': ['Finse-Norway'],\n",
    "                  'Sources': ['Roos_etal_2019'],\n",
    "                  })\n",
    "df_out.to_csv(filname, index=False)\n",
    "\n",
    "for x in range(num):\n",
    "    if np.isnan(df.loc[x,'WHC_g/g']) and np.isnan(df.loc[x,'SLA/STA_mm2/mg']) and np.isnan(df.loc[x,'Nitrogen_%']) and np.isnan(df.loc[x,'Phosphorus_%']):\n",
    "        print(\"no print\")    \n",
    "    else:\n",
    "        df_out = pd.DataFrame({'species': df.loc[x,'species'],\n",
    "                   'WHC_g/g': df.loc[x,'WHC_g/g'],\n",
    "                   'SLA/STA_mm2/mg': df.loc[x,'SLA/STA_mm2/mg'],\n",
    "                   'Nitrogen_%': df.loc[x,'Nitrogen_%'],\n",
    "                   'Phosphorus_%': df.loc[x,'Phosphorus_%'],\n",
    "                  'Location': ['Finse-Norway'],\n",
    "                  'Sources': ['Roos_etal_2019'],\n",
    "                  })\n",
    "        df_out.to_csv(filname, mode='a', header=False, index=False)\n",
    "\n",
    "\n",
    "#df.at[225,\"species\"]\n",
    "\n",
    "#    df_out.to_csv(\"test1.csv\", mode='a', header=False)\n",
    "    \n",
    "#    print(x)\n",
    "\n",
    "#df_out = pd.DataFrame({'species': obsdata.loc[obsdata['species'] == 'hylo.spl','species'].iloc[0],\n",
    "#                   'WHC_g/g': obsdata.loc[obsdata['species'] == 'hylo.spl','WHC'].iloc[0],\n",
    "#                   'SLA/STA_mm2/mg': obsdata.loc[obsdata['species'] == 'hylo.spl','SLA'],\n",
    "#                   'Nitrogen_%': obsdata.loc[obsdata['species'] == 'hylo.spl','N'],\n",
    "#                  'Phosphorus_%': obsdata.loc[obsdata['species'] == 'hylo.spl','P'],\n",
    "#                   'Location': ['Finse-Norway'],\n",
    "#                   'Sources': ['Roos_etal_2019']\n",
    "#                  })\n",
    "#\n"
   ]
  }
 ],
 "metadata": {
  "kernelspec": {
   "display_name": "Python 3",
   "language": "python",
   "name": "python3"
  },
  "language_info": {
   "codemirror_mode": {
    "name": "ipython",
    "version": 3
   },
   "file_extension": ".py",
   "mimetype": "text/x-python",
   "name": "python",
   "nbconvert_exporter": "python",
   "pygments_lexer": "ipython3",
   "version": "3.8.5"
  }
 },
 "nbformat": 4,
 "nbformat_minor": 4
}
